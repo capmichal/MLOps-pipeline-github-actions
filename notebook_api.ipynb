{
 "cells": [
  {
   "cell_type": "code",
   "execution_count": 1,
   "metadata": {},
   "outputs": [],
   "source": [
    "import pandas as pd\n",
    "import requests\n",
    "from datetime import datetime\n",
    "from sqlalchemy import create_engine\n",
    "import pickle\n",
    "import os\n",
    "uri = os.environ.get('URI')"
   ]
  },
  {
   "cell_type": "code",
   "execution_count": 4,
   "metadata": {},
   "outputs": [],
   "source": [
    "# Load Files\n",
    "forecaster_rf = pickle.load(open('model.pickle', 'rb'))\n",
    "last_training_date = pickle.load(open('last_training_date.pickle', 'rb'))\n",
    "last_training_date = datetime.strptime(last_training_date, '%Y-%m-%d %H:%M:%S')"
   ]
  },
  {
   "cell_type": "code",
   "execution_count": 5,
   "metadata": {},
   "outputs": [],
   "source": [
    "url = 'https://api.blockchain.info/charts/transactions-per-second?timespan=all&sampled=false&metadata=false&cors=true&format=json'\n",
    "resp = requests.get(url)\n",
    "data = pd.DataFrame(resp.json()['values'])\n",
    "\n",
    "# I correct the date\n",
    "data['x'] = [datetime.utcfromtimestamp(x).strftime('%Y-%m-%d %H:%M:%S') for x in data['x']]\n",
    "data['x'] = pd.to_datetime(data['x'])\n",
    "\n",
    "# I read the last prediction\n",
    "engine = create_engine(uri)\n",
    "query = engine.execute('SELECT MAX(prediction_date) FROM predictions;')\n",
    "last_prediction_date= query.fetchall()[0][0]\n",
    "query.close()"
   ]
  },
  {
   "cell_type": "code",
   "execution_count": 6,
   "metadata": {},
   "outputs": [
    {
     "data": {
      "text/plain": [
       "datetime.datetime(2024, 4, 8, 0, 0)"
      ]
     },
     "execution_count": 6,
     "metadata": {},
     "output_type": "execute_result"
    }
   ],
   "source": [
    "last_prediction_date"
   ]
  },
  {
   "cell_type": "code",
   "execution_count": 7,
   "metadata": {},
   "outputs": [
    {
     "name": "stdout",
     "output_type": "stream",
     "text": [
      "OPTION 3\n"
     ]
    },
    {
     "data": {
      "text/plain": [
       "DatetimeIndex(['2024-04-11 10:00:00', '2024-04-11 11:00:00',\n",
       "               '2024-04-11 12:00:00', '2024-04-11 13:00:00',\n",
       "               '2024-04-11 14:00:00', '2024-04-11 15:00:00',\n",
       "               '2024-04-11 16:00:00', '2024-04-11 17:00:00',\n",
       "               '2024-04-11 18:00:00', '2024-04-11 19:00:00',\n",
       "               ...\n",
       "               '2024-04-18 00:00:00', '2024-04-18 01:00:00',\n",
       "               '2024-04-18 02:00:00', '2024-04-18 03:00:00',\n",
       "               '2024-04-18 04:00:00', '2024-04-18 05:00:00',\n",
       "               '2024-04-18 06:00:00', '2024-04-18 07:00:00',\n",
       "               '2024-04-18 08:00:00', '2024-04-18 09:00:00'],\n",
       "              dtype='datetime64[ns]', length=168, freq='H')"
      ]
     },
     "execution_count": 7,
     "metadata": {},
     "output_type": "execute_result"
    }
   ],
   "source": [
    "# If there is no last date in the databse or training > database, I read the last date from training\n",
    "\n",
    "num_predictions = 168\n",
    "\n",
    "# if statements dostarczone przez neptune.ai chyba nie są poprawne, trzeba zmienić \n",
    "# na odpowiednie !!!\n",
    "\n",
    "if  (last_prediction_date is None) or (last_prediction_date > last_training_date):\n",
    "\n",
    "    print(\"OPTION 1\")\n",
    "\n",
    "    # As there is no predictions, I make the predictions\n",
    "    predictions = forecaster_rf.predict(num_predictions)\n",
    "\n",
    "    fechas = pd.date_range(\n",
    "        start = last_training_date.strftime('%Y-%m-%d %H:%M:%S'),\n",
    "        periods = num_predictions,\n",
    "        freq = '1H'\n",
    "        )\n",
    "\n",
    "# sytuacje gdzie już używaliśmy naszego wytrenowanego modelu to stworzenia jakiejś predykcji\n",
    "elif last_prediction_date > last_training_date:\n",
    "\n",
    "    print(\"OPTION 2\")\n",
    "\n",
    "    # In this case, we must take into account the differences between the last forecast date and add the difference to the number of days to extract.\n",
    "    dif_seg= last_prediction_date - last_training_date\n",
    "    hours_extract = num_predictions + dif_seg.seconds//3600\n",
    "    predictions = forecaster_rf.predict(num_predictions)\n",
    "    # I get the last predictions\n",
    "    predictions = predictions[-num_predictions:]\n",
    "\n",
    "    fechas = pd.date_range(\n",
    "        start = last_prediction_date.strftime('%Y-%m-%d %H:%M:%S'),\n",
    "        periods = num_predictions,\n",
    "        freq = '1H'\n",
    "        )\n",
    "else:\n",
    "\n",
    "    print(\"OPTION 3\")\n",
    "\n",
    "    # If last training > last predictions\n",
    "    predictions = forecaster_rf.predict(num_predictions)\n",
    "\n",
    "    fechas = pd.date_range(\n",
    "        start = last_training_date.strftime('%Y-%m-%d %H:%M:%S'),\n",
    "        periods = num_predictions,\n",
    "        freq = '1H'\n",
    "        )\n",
    "    \n",
    "\n",
    "fechas"
   ]
  },
  {
   "cell_type": "code",
   "execution_count": 9,
   "metadata": {},
   "outputs": [
    {
     "data": {
      "text/plain": [
       "[('2024-04-11 14:25:05', '2024-04-11 10:00:00', 12.032578698153703),\n",
       " ('2024-04-11 14:25:05', '2024-04-11 11:00:00', 21.26050244135612),\n",
       " ('2024-04-11 14:25:05', '2024-04-11 12:00:00', 13.40114460724461),\n",
       " ('2024-04-11 14:25:05', '2024-04-11 13:00:00', 20.588279860826205),\n",
       " ('2024-04-11 14:25:05', '2024-04-11 14:00:00', 14.005684643572804),\n",
       " ('2024-04-11 14:25:05', '2024-04-11 15:00:00', 19.97536599566418),\n",
       " ('2024-04-11 14:25:05', '2024-04-11 16:00:00', 14.453226640464795),\n",
       " ('2024-04-11 14:25:05', '2024-04-11 17:00:00', 20.68740810755512),\n",
       " ('2024-04-11 14:25:05', '2024-04-11 18:00:00', 14.319241527916523),\n",
       " ('2024-04-11 14:25:05', '2024-04-11 19:00:00', 20.81007113720903)]"
      ]
     },
     "execution_count": 9,
     "metadata": {},
     "output_type": "execute_result"
    }
   ],
   "source": [
    "upload_data = list(zip([\n",
    "datetime.now().strftime('%Y-%m-%d %H:%M:%S')] * num_predictions,\n",
    "[fecha.strftime('%Y-%m-%d %H:%M:%S') for fecha in fechas ],\n",
    "    predictions\n",
    "))\n",
    "\n",
    "\n",
    "upload_data[:10]\n"
   ]
  }
 ],
 "metadata": {
  "kernelspec": {
   "display_name": "venv",
   "language": "python",
   "name": "python3"
  },
  "language_info": {
   "codemirror_mode": {
    "name": "ipython",
    "version": 3
   },
   "file_extension": ".py",
   "mimetype": "text/x-python",
   "name": "python",
   "nbconvert_exporter": "python",
   "pygments_lexer": "ipython3",
   "version": "3.10.12"
  },
  "orig_nbformat": 4
 },
 "nbformat": 4,
 "nbformat_minor": 2
}
