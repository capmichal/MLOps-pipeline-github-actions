{
 "cells": [
  {
   "cell_type": "code",
   "execution_count": 16,
   "metadata": {},
   "outputs": [],
   "source": [
    "import pandas as pd\n",
    "import requests\n",
    "from datetime import datetime\n",
    "from sqlalchemy import create_engine\n",
    "import pickle\n",
    "import os\n",
    "uri = os.environ.get('URI')"
   ]
  },
  {
   "cell_type": "code",
   "execution_count": 17,
   "metadata": {},
   "outputs": [],
   "source": [
    "# Load Files\n",
    "forecaster_rf = pickle.load(open('model.pickle', 'rb'))\n",
    "last_training_date = pickle.load(open('last_training_date.pickle', 'rb'))\n",
    "last_training_date = datetime.strptime(last_training_date, '%Y-%m-%d %H:%M:%S')"
   ]
  },
  {
   "cell_type": "code",
   "execution_count": 18,
   "metadata": {},
   "outputs": [
    {
     "data": {
      "text/plain": [
       "================= \n",
       "ForecasterAutoreg \n",
       "================= \n",
       "Regressor: RandomForestRegressor(max_depth=10, random_state=123) \n",
       "Lags: [ 1  2  3  4  5  6  7  8  9 10 11 12 13 14 15 16 17 18 19 20] \n",
       "Transformer for y: None \n",
       "Transformer for exog: None \n",
       "Window size: 20 \n",
       "Weight function included: False \n",
       "Differentiation order: None \n",
       "Exogenous included: False \n",
       "Type of exogenous variable: None \n",
       "Exogenous variables names: None \n",
       "Training range: [Timestamp('2024-04-04 05:00:00'), Timestamp('2024-04-11 00:00:00')] \n",
       "Training index type: DatetimeIndex \n",
       "Training index frequency: H \n",
       "Regressor parameters: {'bootstrap': True, 'ccp_alpha': 0.0, 'criterion': 'squared_error', 'max_depth': 10, 'max_features': 1.0, 'max_leaf_nodes': None, 'max_samples': None, 'min_impurity_decrease': 0.0, 'min_samples_leaf': 1, 'min_samples_split': 2, 'min_weight_fraction_leaf': 0.0, 'n_estimators': 100, 'n_jobs': None, 'oob_score': False, 'random_state': 123, 'verbose': 0, 'warm_start': False} \n",
       "fit_kwargs: {} \n",
       "Creation date: 2024-04-12 14:26:33 \n",
       "Last fit date: 2024-04-12 14:26:39 \n",
       "Skforecast version: 0.11.0 \n",
       "Python version: 3.10.12 \n",
       "Forecaster id: None "
      ]
     },
     "execution_count": 18,
     "metadata": {},
     "output_type": "execute_result"
    }
   ],
   "source": [
    "forecaster_rf"
   ]
  },
  {
   "cell_type": "code",
   "execution_count": 19,
   "metadata": {},
   "outputs": [],
   "source": [
    "url = 'https://api.blockchain.info/charts/transactions-per-second?timespan=all&sampled=false&metadata=false&cors=true&format=json'\n",
    "resp = requests.get(url)\n",
    "data = pd.DataFrame(resp.json()['values'])\n",
    "\n",
    "# I correct the date\n",
    "data['x'] = [datetime.utcfromtimestamp(x).strftime('%Y-%m-%d %H:%M:%S') for x in data['x']]\n",
    "data['x'] = pd.to_datetime(data['x'])\n",
    "\n",
    "# I read the last prediction\n",
    "engine = create_engine(uri)\n",
    "query = engine.execute('SELECT MAX(prediction_date) FROM predictions;')\n",
    "last_prediction_date= query.fetchall()[0][0]\n",
    "query.close()"
   ]
  },
  {
   "cell_type": "code",
   "execution_count": 20,
   "metadata": {},
   "outputs": [
    {
     "name": "stdout",
     "output_type": "stream",
     "text": [
      "LAST PREDICTION : 2024-04-08 00:00:00\n",
      "LAST TRAINING 2024-04-12 12:00:00\n"
     ]
    }
   ],
   "source": [
    "print(f\"LAST PREDICTION : {last_prediction_date}\")\n",
    "print(f\"LAST TRAINING {last_training_date}\")"
   ]
  },
  {
   "cell_type": "code",
   "execution_count": 21,
   "metadata": {},
   "outputs": [
    {
     "name": "stdout",
     "output_type": "stream",
     "text": [
      "OPTION 1\n"
     ]
    },
    {
     "data": {
      "text/plain": [
       "DatetimeIndex(['2024-04-12 12:00:00', '2024-04-12 13:00:00',\n",
       "               '2024-04-12 14:00:00', '2024-04-12 15:00:00',\n",
       "               '2024-04-12 16:00:00', '2024-04-12 17:00:00',\n",
       "               '2024-04-12 18:00:00', '2024-04-12 19:00:00',\n",
       "               '2024-04-12 20:00:00', '2024-04-12 21:00:00',\n",
       "               ...\n",
       "               '2024-04-19 02:00:00', '2024-04-19 03:00:00',\n",
       "               '2024-04-19 04:00:00', '2024-04-19 05:00:00',\n",
       "               '2024-04-19 06:00:00', '2024-04-19 07:00:00',\n",
       "               '2024-04-19 08:00:00', '2024-04-19 09:00:00',\n",
       "               '2024-04-19 10:00:00', '2024-04-19 11:00:00'],\n",
       "              dtype='datetime64[ns]', length=168, freq='H')"
      ]
     },
     "execution_count": 21,
     "metadata": {},
     "output_type": "execute_result"
    }
   ],
   "source": [
    "# If there is no last date in the databse or training > database, I read the last date from training\n",
    "\n",
    "num_predictions = 168\n",
    "\n",
    "# if statements dostarczone przez neptune.ai chyba nie są poprawne, trzeba zmienić \n",
    "# na odpowiednie !!!\n",
    "\n",
    "# poprawiony pierwszy if, po prostu sytaucja kiedy mamy NAJNOWSZY wytrenowany model, gotowy do użycia\n",
    "if  (last_prediction_date is None) or (last_prediction_date < last_training_date):\n",
    "\n",
    "    print(\"OPTION 1\")\n",
    "\n",
    "    # As there is no predictions, I make the predictions\n",
    "    predictions = forecaster_rf.predict(num_predictions)\n",
    "\n",
    "    fechas = pd.date_range(\n",
    "        start = last_training_date.strftime('%Y-%m-%d %H:%M:%S'),\n",
    "        periods = num_predictions,\n",
    "        freq = '1H'\n",
    "        )\n",
    "\n",
    "# sytuacje gdzie już używaliśmy naszego wytrenowanego modelu to stworzenia jakiejś predykcji\n",
    "elif last_prediction_date > last_training_date:\n",
    "\n",
    "    print(\"OPTION 2\")\n",
    "\n",
    "    # In this case, we must take into account the differences between the last forecast date and add the difference to the number of days to extract.\n",
    "    dif_seg= last_prediction_date - last_training_date\n",
    "    hours_extract = num_predictions + dif_seg.seconds//3600\n",
    "\n",
    "    # experiment\n",
    "    num_predictions = dif_seg.seconds//3600\n",
    "    predictions = forecaster_rf.predict(hours_extract)\n",
    "    \n",
    "    # I get the last predictions\n",
    "    # wybieramy tylko NOWE predykcje\n",
    "    predictions = predictions[-(num_predictions):]\n",
    "\n",
    "    fechas = pd.date_range(\n",
    "        start = last_prediction_date.strftime('%Y-%m-%d %H:%M:%S'),\n",
    "        periods = num_predictions,\n",
    "        freq = '1H'\n",
    "        )\n",
    "# is this ever used ? only in edge case scenario where some varaible is None or training_date == last_predict_date\n",
    "else:\n",
    "\n",
    "    print(\"OPTION 3\")\n",
    "\n",
    "    # If last training > last predictions\n",
    "    predictions = forecaster_rf.predict(num_predictions)\n",
    "\n",
    "    fechas = pd.date_range(\n",
    "        start = last_training_date.strftime('%Y-%m-%d %H:%M:%S'),\n",
    "        periods = num_predictions,\n",
    "        freq = '1H'\n",
    "        )\n",
    "    \n",
    "    \n",
    "\n",
    "fechas"
   ]
  },
  {
   "cell_type": "code",
   "execution_count": 22,
   "metadata": {},
   "outputs": [
    {
     "data": {
      "text/plain": [
       "2024-04-11 01:00:00    17.757607\n",
       "2024-04-11 02:00:00    25.452292\n",
       "2024-04-11 03:00:00    22.885942\n",
       "2024-04-11 04:00:00    27.657327\n",
       "2024-04-11 05:00:00    21.016053\n",
       "                         ...    \n",
       "2024-04-17 20:00:00    35.882298\n",
       "2024-04-17 21:00:00    35.882298\n",
       "2024-04-17 22:00:00    35.882298\n",
       "2024-04-17 23:00:00    35.882298\n",
       "2024-04-18 00:00:00    35.882298\n",
       "Freq: H, Name: pred, Length: 168, dtype: float64"
      ]
     },
     "execution_count": 22,
     "metadata": {},
     "output_type": "execute_result"
    }
   ],
   "source": [
    "predictions"
   ]
  },
  {
   "cell_type": "code",
   "execution_count": 25,
   "metadata": {},
   "outputs": [
    {
     "name": "stdout",
     "output_type": "stream",
     "text": [
      "num of predictions 168\n"
     ]
    },
    {
     "data": {
      "text/plain": [
       "[('2024-04-12 14:45:34', '2024-04-12 12:00:00', 17.757607142857143),\n",
       " ('2024-04-12 14:45:34', '2024-04-12 13:00:00', 25.452291917547786),\n",
       " ('2024-04-12 14:45:34', '2024-04-12 14:00:00', 22.88594174000204),\n",
       " ('2024-04-12 14:45:34', '2024-04-12 15:00:00', 27.65732663398693),\n",
       " ('2024-04-12 14:45:34', '2024-04-12 16:00:00', 21.016053401663697),\n",
       " ('2024-04-12 14:45:34', '2024-04-12 17:00:00', 27.44218697829949),\n",
       " ('2024-04-12 14:45:34', '2024-04-12 18:00:00', 21.32696475376477),\n",
       " ('2024-04-12 14:45:34', '2024-04-12 19:00:00', 35.25446212861211),\n",
       " ('2024-04-12 14:45:34', '2024-04-12 20:00:00', 24.010977819548863),\n",
       " ('2024-04-12 14:45:34', '2024-04-12 21:00:00', 33.27200537656786)]"
      ]
     },
     "execution_count": 25,
     "metadata": {},
     "output_type": "execute_result"
    }
   ],
   "source": [
    "upload_data = list(zip([\n",
    "datetime.now().strftime('%Y-%m-%d %H:%M:%S')] * num_predictions,\n",
    "[fecha.strftime('%Y-%m-%d %H:%M:%S') for fecha in fechas ],\n",
    "    predictions\n",
    "))\n",
    "\n",
    "\n",
    "print(f\"num of predictions {len(upload_data)}\")\n",
    "\n",
    "upload_data[:10]\n",
    "\n"
   ]
  }
 ],
 "metadata": {
  "kernelspec": {
   "display_name": "venv",
   "language": "python",
   "name": "python3"
  },
  "language_info": {
   "codemirror_mode": {
    "name": "ipython",
    "version": 3
   },
   "file_extension": ".py",
   "mimetype": "text/x-python",
   "name": "python",
   "nbconvert_exporter": "python",
   "pygments_lexer": "ipython3",
   "version": "3.10.12"
  },
  "orig_nbformat": 4
 },
 "nbformat": 4,
 "nbformat_minor": 2
}
