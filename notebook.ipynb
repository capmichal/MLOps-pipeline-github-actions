{
 "cells": [
  {
   "cell_type": "code",
   "execution_count": 70,
   "metadata": {},
   "outputs": [],
   "source": [
    "import pandas as pd\n",
    "import requests\n",
    "from datetime import datetime\n",
    "from sqlalchemy import create_engine\n",
    "import os\n",
    "uri = os.environ.get('URI')\n",
    "\n",
    "\n",
    "url = 'https://api.blockchain.info/charts/transactions-per-second?timespan=all&sampled=false&metadata=false&cors=true&format=json'\n",
    "\n",
    "resp = requests.get(url)\n"
   ]
  },
  {
   "cell_type": "code",
   "execution_count": 71,
   "metadata": {},
   "outputs": [],
   "source": [
    "data = pd.DataFrame(resp.json()[\"values\"])"
   ]
  },
  {
   "cell_type": "code",
   "execution_count": 72,
   "metadata": {},
   "outputs": [],
   "source": [
    "# from timestamp to date\n",
    "data['x'] = [datetime.utcfromtimestamp(x).strftime('%Y-%m-%d %H:%M:%S') for x in data['x']]\n",
    "data['x'] = pd.to_datetime(data['x'])"
   ]
  },
  {
   "cell_type": "code",
   "execution_count": 73,
   "metadata": {},
   "outputs": [
    {
     "data": {
      "text/html": [
       "<div>\n",
       "<style scoped>\n",
       "    .dataframe tbody tr th:only-of-type {\n",
       "        vertical-align: middle;\n",
       "    }\n",
       "\n",
       "    .dataframe tbody tr th {\n",
       "        vertical-align: top;\n",
       "    }\n",
       "\n",
       "    .dataframe thead th {\n",
       "        text-align: right;\n",
       "    }\n",
       "</style>\n",
       "<table border=\"1\" class=\"dataframe\">\n",
       "  <thead>\n",
       "    <tr style=\"text-align: right;\">\n",
       "      <th></th>\n",
       "      <th>x</th>\n",
       "      <th>y</th>\n",
       "    </tr>\n",
       "  </thead>\n",
       "  <tbody>\n",
       "    <tr>\n",
       "      <th>0</th>\n",
       "      <td>2016-06-11 00:00:00</td>\n",
       "      <td>1.983333</td>\n",
       "    </tr>\n",
       "    <tr>\n",
       "      <th>1</th>\n",
       "      <td>2016-06-11 00:15:00</td>\n",
       "      <td>1.966667</td>\n",
       "    </tr>\n",
       "    <tr>\n",
       "      <th>2</th>\n",
       "      <td>2016-06-11 00:30:00</td>\n",
       "      <td>1.900000</td>\n",
       "    </tr>\n",
       "    <tr>\n",
       "      <th>3</th>\n",
       "      <td>2016-06-11 00:45:00</td>\n",
       "      <td>2.283333</td>\n",
       "    </tr>\n",
       "    <tr>\n",
       "      <th>4</th>\n",
       "      <td>2016-06-11 01:00:00</td>\n",
       "      <td>2.083333</td>\n",
       "    </tr>\n",
       "  </tbody>\n",
       "</table>\n",
       "</div>"
      ],
      "text/plain": [
       "                    x         y\n",
       "0 2016-06-11 00:00:00  1.983333\n",
       "1 2016-06-11 00:15:00  1.966667\n",
       "2 2016-06-11 00:30:00  1.900000\n",
       "3 2016-06-11 00:45:00  2.283333\n",
       "4 2016-06-11 01:00:00  2.083333"
      ]
     },
     "execution_count": 73,
     "metadata": {},
     "output_type": "execute_result"
    }
   ],
   "source": [
    "data.head()"
   ]
  },
  {
   "cell_type": "code",
   "execution_count": 74,
   "metadata": {},
   "outputs": [],
   "source": [
    "data.columns = [\"date\", \"transactions\"]"
   ]
  },
  {
   "cell_type": "code",
   "execution_count": 75,
   "metadata": {},
   "outputs": [
    {
     "data": {
      "text/html": [
       "<div>\n",
       "<style scoped>\n",
       "    .dataframe tbody tr th:only-of-type {\n",
       "        vertical-align: middle;\n",
       "    }\n",
       "\n",
       "    .dataframe tbody tr th {\n",
       "        vertical-align: top;\n",
       "    }\n",
       "\n",
       "    .dataframe thead th {\n",
       "        text-align: right;\n",
       "    }\n",
       "</style>\n",
       "<table border=\"1\" class=\"dataframe\">\n",
       "  <thead>\n",
       "    <tr style=\"text-align: right;\">\n",
       "      <th></th>\n",
       "      <th>date</th>\n",
       "      <th>transactions</th>\n",
       "    </tr>\n",
       "  </thead>\n",
       "  <tbody>\n",
       "    <tr>\n",
       "      <th>0</th>\n",
       "      <td>2016-06-11 00:00:00</td>\n",
       "      <td>1.983333</td>\n",
       "    </tr>\n",
       "    <tr>\n",
       "      <th>1</th>\n",
       "      <td>2016-06-11 00:15:00</td>\n",
       "      <td>1.966667</td>\n",
       "    </tr>\n",
       "    <tr>\n",
       "      <th>2</th>\n",
       "      <td>2016-06-11 00:30:00</td>\n",
       "      <td>1.900000</td>\n",
       "    </tr>\n",
       "    <tr>\n",
       "      <th>3</th>\n",
       "      <td>2016-06-11 00:45:00</td>\n",
       "      <td>2.283333</td>\n",
       "    </tr>\n",
       "    <tr>\n",
       "      <th>4</th>\n",
       "      <td>2016-06-11 01:00:00</td>\n",
       "      <td>2.083333</td>\n",
       "    </tr>\n",
       "  </tbody>\n",
       "</table>\n",
       "</div>"
      ],
      "text/plain": [
       "                 date  transactions\n",
       "0 2016-06-11 00:00:00      1.983333\n",
       "1 2016-06-11 00:15:00      1.966667\n",
       "2 2016-06-11 00:30:00      1.900000\n",
       "3 2016-06-11 00:45:00      2.283333\n",
       "4 2016-06-11 01:00:00      2.083333"
      ]
     },
     "execution_count": 75,
     "metadata": {},
     "output_type": "execute_result"
    }
   ],
   "source": [
    "data.head()"
   ]
  },
  {
   "cell_type": "code",
   "execution_count": 76,
   "metadata": {},
   "outputs": [],
   "source": [
    "data['date'] = data['date'].dt.round('H')\n",
    "grouped_data = data.groupby('date').sum().reset_index()\n"
   ]
  },
  {
   "cell_type": "code",
   "execution_count": 77,
   "metadata": {},
   "outputs": [
    {
     "data": {
      "text/html": [
       "<div>\n",
       "<style scoped>\n",
       "    .dataframe tbody tr th:only-of-type {\n",
       "        vertical-align: middle;\n",
       "    }\n",
       "\n",
       "    .dataframe tbody tr th {\n",
       "        vertical-align: top;\n",
       "    }\n",
       "\n",
       "    .dataframe thead th {\n",
       "        text-align: right;\n",
       "    }\n",
       "</style>\n",
       "<table border=\"1\" class=\"dataframe\">\n",
       "  <thead>\n",
       "    <tr style=\"text-align: right;\">\n",
       "      <th></th>\n",
       "      <th>date</th>\n",
       "      <th>transactions</th>\n",
       "    </tr>\n",
       "  </thead>\n",
       "  <tbody>\n",
       "    <tr>\n",
       "      <th>0</th>\n",
       "      <td>2016-06-11 00:00:00</td>\n",
       "      <td>5.85</td>\n",
       "    </tr>\n",
       "    <tr>\n",
       "      <th>1</th>\n",
       "      <td>2016-06-11 01:00:00</td>\n",
       "      <td>6.05</td>\n",
       "    </tr>\n",
       "    <tr>\n",
       "      <th>2</th>\n",
       "      <td>2016-06-11 02:00:00</td>\n",
       "      <td>9.05</td>\n",
       "    </tr>\n",
       "    <tr>\n",
       "      <th>3</th>\n",
       "      <td>2016-06-11 03:00:00</td>\n",
       "      <td>6.05</td>\n",
       "    </tr>\n",
       "    <tr>\n",
       "      <th>4</th>\n",
       "      <td>2016-06-11 04:00:00</td>\n",
       "      <td>12.65</td>\n",
       "    </tr>\n",
       "  </tbody>\n",
       "</table>\n",
       "</div>"
      ],
      "text/plain": [
       "                 date  transactions\n",
       "0 2016-06-11 00:00:00          5.85\n",
       "1 2016-06-11 01:00:00          6.05\n",
       "2 2016-06-11 02:00:00          9.05\n",
       "3 2016-06-11 03:00:00          6.05\n",
       "4 2016-06-11 04:00:00         12.65"
      ]
     },
     "execution_count": 77,
     "metadata": {},
     "output_type": "execute_result"
    }
   ],
   "source": [
    "grouped_data.head()"
   ]
  },
  {
   "cell_type": "code",
   "execution_count": null,
   "metadata": {},
   "outputs": [],
   "source": []
  },
  {
   "cell_type": "code",
   "execution_count": 78,
   "metadata": {},
   "outputs": [
    {
     "data": {
      "text/plain": [
       "date\n",
       "2016-06-11 00:00:00     5.85\n",
       "2016-06-11 01:00:00     6.05\n",
       "2016-06-11 02:00:00     9.05\n",
       "2016-06-11 03:00:00     6.05\n",
       "2016-06-11 04:00:00    12.65\n",
       "Name: transactions, dtype: float64"
      ]
     },
     "execution_count": 78,
     "metadata": {},
     "output_type": "execute_result"
    }
   ],
   "source": [
    "# switched from DataFrame to pandas.series (which is just one/each column of dataframe)\n",
    "grouped_data = grouped_data.set_index('date')\n",
    "grouped_data = grouped_data['transactions']\n",
    "grouped_data.head()"
   ]
  },
  {
   "cell_type": "code",
   "execution_count": 79,
   "metadata": {},
   "outputs": [
    {
     "data": {
      "text/plain": [
       "pandas.core.series.Series"
      ]
     },
     "execution_count": 79,
     "metadata": {},
     "output_type": "execute_result"
    }
   ],
   "source": [
    "type(grouped_data)"
   ]
  },
  {
   "cell_type": "code",
   "execution_count": 80,
   "metadata": {},
   "outputs": [],
   "source": [
    "steps = 36\n",
    "n_datos_entrenar = 200\n",
    "\n",
    "train_data = grouped_data[ -n_datos_entrenar:-steps]\n",
    "test_data  = grouped_data[-steps:]"
   ]
  },
  {
   "cell_type": "code",
   "execution_count": 95,
   "metadata": {},
   "outputs": [],
   "source": [
    "#from utils import create_predictors\n",
    "from skforecast.model_selection import grid_search_forecaster\n",
    "from skforecast.ForecasterAutoregCustom import ForecasterAutoregCustom\n",
    "from skforecast.ForecasterAutoreg import ForecasterAutoreg\n",
    "from sklearn.ensemble import RandomForestRegressor\n",
    "\n",
    "# imports for data reading\n",
    "import requests\n",
    "from datetime import datetime\n",
    "\n",
    "# imports for Neptune\n",
    "import os\n",
    "from dotenv import load_dotenv\n",
    "import neptune"
   ]
  },
  {
   "cell_type": "code",
   "execution_count": 88,
   "metadata": {},
   "outputs": [],
   "source": [
    "# ???? predictors generation not included in tutorial\n",
    "import numpy as np\n",
    "def create_predictors(y):\n",
    "    \"\"\"\n",
    "    Create first 10 lags of a time series.\n",
    "    Calculate moving average with window 20.\n",
    "    \"\"\"\n",
    "    \n",
    "    lags = y[-1:-11:-1]     # window size needed = 10\n",
    "    mean = np.mean(y[-20:]) # window size needed = 20\n",
    "    predictors = np.hstack([lags, mean])\n",
    "    \n",
    "    return predictors\n",
    "\n",
    "\n",
    "# fixed predictors creating\n",
    "\n",
    "# def create_predictors(y):\n",
    "#     \"\"\"\n",
    "#     Create first 10 lags of a time series.\n",
    "#     Calculate moving average with window 20.\n",
    "#     \"\"\"\n",
    "\n",
    "#     lags = y.iloc[-1:-11:-1]     # window size needed = 10\n",
    "#     mean = np.mean(y.iloc[-20:]) # window size needed = 20\n",
    "#     predictors = np.hstack([lags, mean])\n",
    "\n",
    "#     return predictors"
   ]
  },
  {
   "cell_type": "code",
   "execution_count": 97,
   "metadata": {},
   "outputs": [],
   "source": [
    "# Define forecaster\n",
    "forecaster_rf = ForecasterAutoreg(\n",
    "                    regressor      = RandomForestRegressor(random_state=123),\n",
    "                    #fun_predictors = create_predictors,\n",
    "                    lags    = 20\n",
    "                )"
   ]
  },
  {
   "cell_type": "code",
   "execution_count": 90,
   "metadata": {},
   "outputs": [],
   "source": [
    "param_grid = { 'n_estimators': [100, 500], 'max_depth': [3, 5, 10] }"
   ]
  },
  {
   "cell_type": "code",
   "execution_count": 91,
   "metadata": {},
   "outputs": [
    {
     "data": {
      "text/plain": [
       "date\n",
       "2024-04-02 05:00:00    15.800000\n",
       "2024-04-02 06:00:00    17.283333\n",
       "2024-04-02 07:00:00     9.100000\n",
       "2024-04-02 08:00:00    19.366667\n",
       "2024-04-02 09:00:00    13.216667\n",
       "Name: transactions, dtype: float64"
      ]
     },
     "execution_count": 91,
     "metadata": {},
     "output_type": "execute_result"
    }
   ],
   "source": [
    "train_data.head()"
   ]
  },
  {
   "cell_type": "code",
   "execution_count": 94,
   "metadata": {},
   "outputs": [
    {
     "data": {
      "text/plain": [
       "array([16.41666667,  9.8       , 16.73333333,  8.81666667, 18.8       ,\n",
       "       11.88333333, 24.96666667, 17.15      , 39.63333333, 35.78333333,\n",
       "       21.92833333])"
      ]
     },
     "execution_count": 94,
     "metadata": {},
     "output_type": "execute_result"
    }
   ],
   "source": [
    "create_predictors(train_data)"
   ]
  },
  {
   "cell_type": "code",
   "execution_count": 92,
   "metadata": {},
   "outputs": [
    {
     "name": "stdout",
     "output_type": "stream",
     "text": [
      "Number of models compared: 6.\n"
     ]
    },
    {
     "name": "stderr",
     "output_type": "stream",
     "text": [
      "lags grid:   0%|          | 0/1 [00:00<?, ?it/s]/home/michal/documents/MLOps-pipeline-github-actions/venv/lib/python3.10/site-packages/skforecast/utils/utils.py:805: UserWarning: `y` has DatetimeIndex index but no frequency. Index is overwritten with a RangeIndex of step 1.\n",
      "  warnings.warn(\n",
      "/home/michal/documents/MLOps-pipeline-github-actions/venv/lib/python3.10/site-packages/skforecast/utils/utils.py:867: UserWarning: `last_window` has DatetimeIndex index but no frequency. Index is overwritten with a RangeIndex of step 1.\n",
      "  warnings.warn(\n",
      "/home/michal/documents/MLOps-pipeline-github-actions/venv/lib/python3.10/site-packages/skforecast/utils/utils.py:867: UserWarning: `last_window` has DatetimeIndex index but no frequency. Index is overwritten with a RangeIndex of step 1.\n",
      "  warnings.warn(\n",
      "/home/michal/documents/MLOps-pipeline-github-actions/venv/lib/python3.10/site-packages/skforecast/utils/utils.py:867: UserWarning: `last_window` has DatetimeIndex index but no frequency. Index is overwritten with a RangeIndex of step 1.\n",
      "  warnings.warn(\n",
      "/home/michal/documents/MLOps-pipeline-github-actions/venv/lib/python3.10/site-packages/skforecast/utils/utils.py:867: UserWarning: `last_window` has DatetimeIndex index but no frequency. Index is overwritten with a RangeIndex of step 1.\n",
      "  warnings.warn(\n",
      "/home/michal/documents/MLOps-pipeline-github-actions/venv/lib/python3.10/site-packages/skforecast/utils/utils.py:867: UserWarning: `last_window` has DatetimeIndex index but no frequency. Index is overwritten with a RangeIndex of step 1.\n",
      "  warnings.warn(\n",
      "/home/michal/documents/MLOps-pipeline-github-actions/venv/lib/python3.10/site-packages/skforecast/utils/utils.py:867: UserWarning: `last_window` has DatetimeIndex index but no frequency. Index is overwritten with a RangeIndex of step 1.\n",
      "  warnings.warn(\n",
      "/home/michal/documents/MLOps-pipeline-github-actions/venv/lib/python3.10/site-packages/skforecast/utils/utils.py:867: UserWarning: `last_window` has DatetimeIndex index but no frequency. Index is overwritten with a RangeIndex of step 1.\n",
      "  warnings.warn(\n",
      "/home/michal/documents/MLOps-pipeline-github-actions/venv/lib/python3.10/site-packages/skforecast/utils/utils.py:867: UserWarning: `last_window` has DatetimeIndex index but no frequency. Index is overwritten with a RangeIndex of step 1.\n",
      "  warnings.warn(\n",
      "/home/michal/documents/MLOps-pipeline-github-actions/venv/lib/python3.10/site-packages/skforecast/utils/utils.py:867: UserWarning: `last_window` has DatetimeIndex index but no frequency. Index is overwritten with a RangeIndex of step 1.\n",
      "  warnings.warn(\n",
      "lags grid:   0%|          | 0/1 [00:00<?, ?it/s]\n"
     ]
    },
    {
     "ename": "KeyError",
     "evalue": "\"None of [Index([20, 21, 22, 23, 24, 25, 26, 27, 28, 29, 20, 21, 22, 23, 24, 25, 26, 27,\\n       28, 29, 20, 21, 22, 23, 24, 25, 26, 27, 28, 29, 20, 21, 22, 23, 24, 25,\\n       26, 27, 28, 29, 20, 21, 22, 23, 24, 25, 26, 27, 28, 29, 20, 21, 22, 23,\\n       24, 25, 26, 27, 28, 29, 20, 21, 22, 23, 24, 25, 26, 27, 28, 29, 20, 21,\\n       22, 23, 24, 25, 26, 27, 28, 29, 20, 21],\\n      dtype='int64')] are in the [index]\"",
     "output_type": "error",
     "traceback": [
      "\u001b[0;31m---------------------------------------------------------------------------\u001b[0m",
      "\u001b[0;31mKeyError\u001b[0m                                  Traceback (most recent call last)",
      "Cell \u001b[0;32mIn[92], line 1\u001b[0m\n\u001b[0;32m----> 1\u001b[0m grid_results \u001b[39m=\u001b[39m grid_search_forecaster(\n\u001b[1;32m      2\u001b[0m                         forecaster  \u001b[39m=\u001b[39;49m forecaster_rf,\n\u001b[1;32m      3\u001b[0m                         y           \u001b[39m=\u001b[39;49m train_data,\n\u001b[1;32m      4\u001b[0m                         param_grid  \u001b[39m=\u001b[39;49m param_grid,\n\u001b[1;32m      5\u001b[0m                         steps       \u001b[39m=\u001b[39;49m \u001b[39m10\u001b[39;49m,\n\u001b[1;32m      6\u001b[0m                         metric      \u001b[39m=\u001b[39;49m \u001b[39m'\u001b[39;49m\u001b[39mmean_squared_error\u001b[39;49m\u001b[39m'\u001b[39;49m,\n\u001b[1;32m      7\u001b[0m                         initial_train_size    \u001b[39m=\u001b[39;49m \u001b[39mint\u001b[39;49m(\u001b[39mlen\u001b[39;49m(train_data)\u001b[39m*\u001b[39;49m\u001b[39m0.5\u001b[39;49m),\n\u001b[1;32m      8\u001b[0m                         allow_incomplete_fold \u001b[39m=\u001b[39;49m \u001b[39mTrue\u001b[39;49;00m,\n\u001b[1;32m      9\u001b[0m                         return_best \u001b[39m=\u001b[39;49m \u001b[39mTrue\u001b[39;49;00m, \u001b[39m# return only ONE best grid\u001b[39;49;00m\n\u001b[1;32m     10\u001b[0m                         verbose     \u001b[39m=\u001b[39;49m \u001b[39mFalse\u001b[39;49;00m\n\u001b[1;32m     11\u001b[0m                     )\n",
      "File \u001b[0;32m~/documents/MLOps-pipeline-github-actions/venv/lib/python3.10/site-packages/skforecast/model_selection/model_selection.py:911\u001b[0m, in \u001b[0;36mgrid_search_forecaster\u001b[0;34m(forecaster, y, param_grid, steps, metric, initial_train_size, fixed_train_size, gap, allow_incomplete_fold, exog, lags_grid, refit, return_best, n_jobs, verbose, show_progress)\u001b[0m\n\u001b[1;32m    842\u001b[0m \u001b[39m\u001b[39m\u001b[39m\"\"\"\u001b[39;00m\n\u001b[1;32m    843\u001b[0m \u001b[39mExhaustive search over specified parameter values for a Forecaster object.\u001b[39;00m\n\u001b[1;32m    844\u001b[0m \u001b[39mValidation is done using time series backtesting.\u001b[39;00m\n\u001b[0;32m   (...)\u001b[0m\n\u001b[1;32m    906\u001b[0m \u001b[39m\u001b[39;00m\n\u001b[1;32m    907\u001b[0m \u001b[39m\"\"\"\u001b[39;00m\n\u001b[1;32m    909\u001b[0m param_grid \u001b[39m=\u001b[39m \u001b[39mlist\u001b[39m(ParameterGrid(param_grid))\n\u001b[0;32m--> 911\u001b[0m results \u001b[39m=\u001b[39m _evaluate_grid_hyperparameters(\n\u001b[1;32m    912\u001b[0m     forecaster            \u001b[39m=\u001b[39;49m forecaster,\n\u001b[1;32m    913\u001b[0m     y                     \u001b[39m=\u001b[39;49m y,\n\u001b[1;32m    914\u001b[0m     param_grid            \u001b[39m=\u001b[39;49m param_grid,\n\u001b[1;32m    915\u001b[0m     steps                 \u001b[39m=\u001b[39;49m steps,\n\u001b[1;32m    916\u001b[0m     metric                \u001b[39m=\u001b[39;49m metric,\n\u001b[1;32m    917\u001b[0m     initial_train_size    \u001b[39m=\u001b[39;49m initial_train_size,\n\u001b[1;32m    918\u001b[0m     fixed_train_size      \u001b[39m=\u001b[39;49m fixed_train_size,\n\u001b[1;32m    919\u001b[0m     gap                   \u001b[39m=\u001b[39;49m gap,\n\u001b[1;32m    920\u001b[0m     allow_incomplete_fold \u001b[39m=\u001b[39;49m allow_incomplete_fold,\n\u001b[1;32m    921\u001b[0m     exog                  \u001b[39m=\u001b[39;49m exog,\n\u001b[1;32m    922\u001b[0m     lags_grid             \u001b[39m=\u001b[39;49m lags_grid,\n\u001b[1;32m    923\u001b[0m     refit                 \u001b[39m=\u001b[39;49m refit,\n\u001b[1;32m    924\u001b[0m     return_best           \u001b[39m=\u001b[39;49m return_best,\n\u001b[1;32m    925\u001b[0m     n_jobs                \u001b[39m=\u001b[39;49m n_jobs,\n\u001b[1;32m    926\u001b[0m     verbose               \u001b[39m=\u001b[39;49m verbose,\n\u001b[1;32m    927\u001b[0m     show_progress         \u001b[39m=\u001b[39;49m show_progress\n\u001b[1;32m    928\u001b[0m )\n\u001b[1;32m    930\u001b[0m \u001b[39mreturn\u001b[39;00m results\n",
      "File \u001b[0;32m~/documents/MLOps-pipeline-github-actions/venv/lib/python3.10/site-packages/skforecast/model_selection/model_selection.py:1176\u001b[0m, in \u001b[0;36m_evaluate_grid_hyperparameters\u001b[0;34m(forecaster, y, param_grid, steps, metric, initial_train_size, fixed_train_size, gap, allow_incomplete_fold, exog, lags_grid, refit, return_best, n_jobs, verbose, show_progress)\u001b[0m\n\u001b[1;32m   1173\u001b[0m \u001b[39mfor\u001b[39;00m params \u001b[39min\u001b[39;00m param_grid:\n\u001b[1;32m   1175\u001b[0m     forecaster\u001b[39m.\u001b[39mset_params(params)\n\u001b[0;32m-> 1176\u001b[0m     metrics_values \u001b[39m=\u001b[39m backtesting_forecaster(\n\u001b[1;32m   1177\u001b[0m                          forecaster            \u001b[39m=\u001b[39;49m forecaster,\n\u001b[1;32m   1178\u001b[0m                          y                     \u001b[39m=\u001b[39;49m y,\n\u001b[1;32m   1179\u001b[0m                          steps                 \u001b[39m=\u001b[39;49m steps,\n\u001b[1;32m   1180\u001b[0m                          metric                \u001b[39m=\u001b[39;49m metric,\n\u001b[1;32m   1181\u001b[0m                          initial_train_size    \u001b[39m=\u001b[39;49m initial_train_size,\n\u001b[1;32m   1182\u001b[0m                          fixed_train_size      \u001b[39m=\u001b[39;49m fixed_train_size,\n\u001b[1;32m   1183\u001b[0m                          gap                   \u001b[39m=\u001b[39;49m gap,\n\u001b[1;32m   1184\u001b[0m                          allow_incomplete_fold \u001b[39m=\u001b[39;49m allow_incomplete_fold,\n\u001b[1;32m   1185\u001b[0m                          exog                  \u001b[39m=\u001b[39;49m exog,\n\u001b[1;32m   1186\u001b[0m                          refit                 \u001b[39m=\u001b[39;49m refit,\n\u001b[1;32m   1187\u001b[0m                          interval              \u001b[39m=\u001b[39;49m \u001b[39mNone\u001b[39;49;00m,\n\u001b[1;32m   1188\u001b[0m                          n_jobs                \u001b[39m=\u001b[39;49m n_jobs,\n\u001b[1;32m   1189\u001b[0m                          verbose               \u001b[39m=\u001b[39;49m verbose,\n\u001b[1;32m   1190\u001b[0m                          show_progress         \u001b[39m=\u001b[39;49m \u001b[39mFalse\u001b[39;49;00m\n\u001b[1;32m   1191\u001b[0m                      )[\u001b[39m0\u001b[39m]\n\u001b[1;32m   1192\u001b[0m     warnings\u001b[39m.\u001b[39mfilterwarnings(\u001b[39m'\u001b[39m\u001b[39mignore\u001b[39m\u001b[39m'\u001b[39m, category\u001b[39m=\u001b[39m\u001b[39mRuntimeWarning\u001b[39;00m, message\u001b[39m=\u001b[39m \u001b[39m\"\u001b[39m\u001b[39mThe forecaster will be fit.*\u001b[39m\u001b[39m\"\u001b[39m)\n\u001b[1;32m   1193\u001b[0m     lags_list\u001b[39m.\u001b[39mappend(lags)\n",
      "File \u001b[0;32m~/documents/MLOps-pipeline-github-actions/venv/lib/python3.10/site-packages/skforecast/model_selection/model_selection.py:801\u001b[0m, in \u001b[0;36mbacktesting_forecaster\u001b[0;34m(forecaster, y, steps, metric, initial_train_size, fixed_train_size, gap, allow_incomplete_fold, exog, refit, interval, n_boot, random_state, in_sample_residuals, n_jobs, verbose, show_progress)\u001b[0m\n\u001b[1;32m    793\u001b[0m \u001b[39mif\u001b[39;00m \u001b[39mtype\u001b[39m(forecaster)\u001b[39m.\u001b[39m\u001b[39m__name__\u001b[39m \u001b[39m==\u001b[39m \u001b[39m'\u001b[39m\u001b[39mForecasterAutoregDirect\u001b[39m\u001b[39m'\u001b[39m \u001b[39mand\u001b[39;00m \\\n\u001b[1;32m    794\u001b[0m    forecaster\u001b[39m.\u001b[39msteps \u001b[39m<\u001b[39m steps \u001b[39m+\u001b[39m gap:\n\u001b[1;32m    795\u001b[0m     \u001b[39mraise\u001b[39;00m \u001b[39mValueError\u001b[39;00m(\n\u001b[1;32m    796\u001b[0m         (\u001b[39m\"\u001b[39m\u001b[39mWhen using a ForecasterAutoregDirect, the combination of steps \u001b[39m\u001b[39m\"\u001b[39m\n\u001b[1;32m    797\u001b[0m          \u001b[39mf\u001b[39m\u001b[39m\"\u001b[39m\u001b[39m+ gap (\u001b[39m\u001b[39m{\u001b[39;00msteps\u001b[39m+\u001b[39mgap\u001b[39m}\u001b[39;00m\u001b[39m) cannot be greater than the `steps` parameter \u001b[39m\u001b[39m\"\u001b[39m\n\u001b[1;32m    798\u001b[0m          \u001b[39mf\u001b[39m\u001b[39m\"\u001b[39m\u001b[39mdeclared when the forecaster is initialized (\u001b[39m\u001b[39m{\u001b[39;00mforecaster\u001b[39m.\u001b[39msteps\u001b[39m}\u001b[39;00m\u001b[39m).\u001b[39m\u001b[39m\"\u001b[39m)\n\u001b[1;32m    799\u001b[0m     )\n\u001b[0;32m--> 801\u001b[0m metrics_values, backtest_predictions \u001b[39m=\u001b[39m _backtesting_forecaster(\n\u001b[1;32m    802\u001b[0m     forecaster            \u001b[39m=\u001b[39;49m forecaster,\n\u001b[1;32m    803\u001b[0m     y                     \u001b[39m=\u001b[39;49m y,\n\u001b[1;32m    804\u001b[0m     steps                 \u001b[39m=\u001b[39;49m steps,\n\u001b[1;32m    805\u001b[0m     metric                \u001b[39m=\u001b[39;49m metric,\n\u001b[1;32m    806\u001b[0m     initial_train_size    \u001b[39m=\u001b[39;49m initial_train_size,\n\u001b[1;32m    807\u001b[0m     fixed_train_size      \u001b[39m=\u001b[39;49m fixed_train_size,\n\u001b[1;32m    808\u001b[0m     gap                   \u001b[39m=\u001b[39;49m gap,\n\u001b[1;32m    809\u001b[0m     allow_incomplete_fold \u001b[39m=\u001b[39;49m allow_incomplete_fold,\n\u001b[1;32m    810\u001b[0m     exog                  \u001b[39m=\u001b[39;49m exog,\n\u001b[1;32m    811\u001b[0m     refit                 \u001b[39m=\u001b[39;49m refit,\n\u001b[1;32m    812\u001b[0m     interval              \u001b[39m=\u001b[39;49m interval,\n\u001b[1;32m    813\u001b[0m     n_boot                \u001b[39m=\u001b[39;49m n_boot,\n\u001b[1;32m    814\u001b[0m     random_state          \u001b[39m=\u001b[39;49m random_state,\n\u001b[1;32m    815\u001b[0m     in_sample_residuals   \u001b[39m=\u001b[39;49m in_sample_residuals,\n\u001b[1;32m    816\u001b[0m     n_jobs                \u001b[39m=\u001b[39;49m n_jobs,\n\u001b[1;32m    817\u001b[0m     verbose               \u001b[39m=\u001b[39;49m verbose,\n\u001b[1;32m    818\u001b[0m     show_progress         \u001b[39m=\u001b[39;49m show_progress\n\u001b[1;32m    819\u001b[0m )\n\u001b[1;32m    821\u001b[0m \u001b[39mreturn\u001b[39;00m metrics_values, backtest_predictions\n",
      "File \u001b[0;32m~/documents/MLOps-pipeline-github-actions/venv/lib/python3.10/site-packages/skforecast/model_selection/model_selection.py:636\u001b[0m, in \u001b[0;36m_backtesting_forecaster\u001b[0;34m(forecaster, y, steps, metric, initial_train_size, fixed_train_size, gap, allow_incomplete_fold, exog, refit, interval, n_boot, random_state, in_sample_residuals, n_jobs, verbose, show_progress)\u001b[0m\n\u001b[1;32m    633\u001b[0m \u001b[39mif\u001b[39;00m \u001b[39misinstance\u001b[39m(backtest_predictions, pd\u001b[39m.\u001b[39mSeries):\n\u001b[1;32m    634\u001b[0m     backtest_predictions \u001b[39m=\u001b[39m pd\u001b[39m.\u001b[39mDataFrame(backtest_predictions)\n\u001b[0;32m--> 636\u001b[0m metrics_values \u001b[39m=\u001b[39m [m(\n\u001b[1;32m    637\u001b[0m                     y_true \u001b[39m=\u001b[39m y\u001b[39m.\u001b[39mloc[backtest_predictions\u001b[39m.\u001b[39mindex],\n\u001b[1;32m    638\u001b[0m                     y_pred \u001b[39m=\u001b[39m backtest_predictions[\u001b[39m'\u001b[39m\u001b[39mpred\u001b[39m\u001b[39m'\u001b[39m]\n\u001b[1;32m    639\u001b[0m                   ) \u001b[39mfor\u001b[39;00m m \u001b[39min\u001b[39;00m metrics\n\u001b[1;32m    640\u001b[0m                  ]\n\u001b[1;32m    642\u001b[0m \u001b[39mif\u001b[39;00m \u001b[39mnot\u001b[39;00m \u001b[39misinstance\u001b[39m(metric, \u001b[39mlist\u001b[39m):\n\u001b[1;32m    643\u001b[0m     metrics_values \u001b[39m=\u001b[39m metrics_values[\u001b[39m0\u001b[39m]\n",
      "File \u001b[0;32m~/documents/MLOps-pipeline-github-actions/venv/lib/python3.10/site-packages/skforecast/model_selection/model_selection.py:637\u001b[0m, in \u001b[0;36m<listcomp>\u001b[0;34m(.0)\u001b[0m\n\u001b[1;32m    633\u001b[0m \u001b[39mif\u001b[39;00m \u001b[39misinstance\u001b[39m(backtest_predictions, pd\u001b[39m.\u001b[39mSeries):\n\u001b[1;32m    634\u001b[0m     backtest_predictions \u001b[39m=\u001b[39m pd\u001b[39m.\u001b[39mDataFrame(backtest_predictions)\n\u001b[1;32m    636\u001b[0m metrics_values \u001b[39m=\u001b[39m [m(\n\u001b[0;32m--> 637\u001b[0m                     y_true \u001b[39m=\u001b[39m y\u001b[39m.\u001b[39;49mloc[backtest_predictions\u001b[39m.\u001b[39;49mindex],\n\u001b[1;32m    638\u001b[0m                     y_pred \u001b[39m=\u001b[39m backtest_predictions[\u001b[39m'\u001b[39m\u001b[39mpred\u001b[39m\u001b[39m'\u001b[39m]\n\u001b[1;32m    639\u001b[0m                   ) \u001b[39mfor\u001b[39;00m m \u001b[39min\u001b[39;00m metrics\n\u001b[1;32m    640\u001b[0m                  ]\n\u001b[1;32m    642\u001b[0m \u001b[39mif\u001b[39;00m \u001b[39mnot\u001b[39;00m \u001b[39misinstance\u001b[39m(metric, \u001b[39mlist\u001b[39m):\n\u001b[1;32m    643\u001b[0m     metrics_values \u001b[39m=\u001b[39m metrics_values[\u001b[39m0\u001b[39m]\n",
      "File \u001b[0;32m~/documents/MLOps-pipeline-github-actions/venv/lib/python3.10/site-packages/pandas/core/indexing.py:1153\u001b[0m, in \u001b[0;36m_LocationIndexer.__getitem__\u001b[0;34m(self, key)\u001b[0m\n\u001b[1;32m   1150\u001b[0m axis \u001b[39m=\u001b[39m \u001b[39mself\u001b[39m\u001b[39m.\u001b[39maxis \u001b[39mor\u001b[39;00m \u001b[39m0\u001b[39m\n\u001b[1;32m   1152\u001b[0m maybe_callable \u001b[39m=\u001b[39m com\u001b[39m.\u001b[39mapply_if_callable(key, \u001b[39mself\u001b[39m\u001b[39m.\u001b[39mobj)\n\u001b[0;32m-> 1153\u001b[0m \u001b[39mreturn\u001b[39;00m \u001b[39mself\u001b[39;49m\u001b[39m.\u001b[39;49m_getitem_axis(maybe_callable, axis\u001b[39m=\u001b[39;49maxis)\n",
      "File \u001b[0;32m~/documents/MLOps-pipeline-github-actions/venv/lib/python3.10/site-packages/pandas/core/indexing.py:1382\u001b[0m, in \u001b[0;36m_LocIndexer._getitem_axis\u001b[0;34m(self, key, axis)\u001b[0m\n\u001b[1;32m   1379\u001b[0m     \u001b[39mif\u001b[39;00m \u001b[39mhasattr\u001b[39m(key, \u001b[39m\"\u001b[39m\u001b[39mndim\u001b[39m\u001b[39m\"\u001b[39m) \u001b[39mand\u001b[39;00m key\u001b[39m.\u001b[39mndim \u001b[39m>\u001b[39m \u001b[39m1\u001b[39m:\n\u001b[1;32m   1380\u001b[0m         \u001b[39mraise\u001b[39;00m \u001b[39mValueError\u001b[39;00m(\u001b[39m\"\u001b[39m\u001b[39mCannot index with multidimensional key\u001b[39m\u001b[39m\"\u001b[39m)\n\u001b[0;32m-> 1382\u001b[0m     \u001b[39mreturn\u001b[39;00m \u001b[39mself\u001b[39;49m\u001b[39m.\u001b[39;49m_getitem_iterable(key, axis\u001b[39m=\u001b[39;49maxis)\n\u001b[1;32m   1384\u001b[0m \u001b[39m# nested tuple slicing\u001b[39;00m\n\u001b[1;32m   1385\u001b[0m \u001b[39mif\u001b[39;00m is_nested_tuple(key, labels):\n",
      "File \u001b[0;32m~/documents/MLOps-pipeline-github-actions/venv/lib/python3.10/site-packages/pandas/core/indexing.py:1322\u001b[0m, in \u001b[0;36m_LocIndexer._getitem_iterable\u001b[0;34m(self, key, axis)\u001b[0m\n\u001b[1;32m   1319\u001b[0m \u001b[39mself\u001b[39m\u001b[39m.\u001b[39m_validate_key(key, axis)\n\u001b[1;32m   1321\u001b[0m \u001b[39m# A collection of keys\u001b[39;00m\n\u001b[0;32m-> 1322\u001b[0m keyarr, indexer \u001b[39m=\u001b[39m \u001b[39mself\u001b[39;49m\u001b[39m.\u001b[39;49m_get_listlike_indexer(key, axis)\n\u001b[1;32m   1323\u001b[0m \u001b[39mreturn\u001b[39;00m \u001b[39mself\u001b[39m\u001b[39m.\u001b[39mobj\u001b[39m.\u001b[39m_reindex_with_indexers(\n\u001b[1;32m   1324\u001b[0m     {axis: [keyarr, indexer]}, copy\u001b[39m=\u001b[39m\u001b[39mTrue\u001b[39;00m, allow_dups\u001b[39m=\u001b[39m\u001b[39mTrue\u001b[39;00m\n\u001b[1;32m   1325\u001b[0m )\n",
      "File \u001b[0;32m~/documents/MLOps-pipeline-github-actions/venv/lib/python3.10/site-packages/pandas/core/indexing.py:1520\u001b[0m, in \u001b[0;36m_LocIndexer._get_listlike_indexer\u001b[0;34m(self, key, axis)\u001b[0m\n\u001b[1;32m   1517\u001b[0m ax \u001b[39m=\u001b[39m \u001b[39mself\u001b[39m\u001b[39m.\u001b[39mobj\u001b[39m.\u001b[39m_get_axis(axis)\n\u001b[1;32m   1518\u001b[0m axis_name \u001b[39m=\u001b[39m \u001b[39mself\u001b[39m\u001b[39m.\u001b[39mobj\u001b[39m.\u001b[39m_get_axis_name(axis)\n\u001b[0;32m-> 1520\u001b[0m keyarr, indexer \u001b[39m=\u001b[39m ax\u001b[39m.\u001b[39;49m_get_indexer_strict(key, axis_name)\n\u001b[1;32m   1522\u001b[0m \u001b[39mreturn\u001b[39;00m keyarr, indexer\n",
      "File \u001b[0;32m~/documents/MLOps-pipeline-github-actions/venv/lib/python3.10/site-packages/pandas/core/indexes/base.py:6115\u001b[0m, in \u001b[0;36mIndex._get_indexer_strict\u001b[0;34m(self, key, axis_name)\u001b[0m\n\u001b[1;32m   6112\u001b[0m \u001b[39melse\u001b[39;00m:\n\u001b[1;32m   6113\u001b[0m     keyarr, indexer, new_indexer \u001b[39m=\u001b[39m \u001b[39mself\u001b[39m\u001b[39m.\u001b[39m_reindex_non_unique(keyarr)\n\u001b[0;32m-> 6115\u001b[0m \u001b[39mself\u001b[39;49m\u001b[39m.\u001b[39;49m_raise_if_missing(keyarr, indexer, axis_name)\n\u001b[1;32m   6117\u001b[0m keyarr \u001b[39m=\u001b[39m \u001b[39mself\u001b[39m\u001b[39m.\u001b[39mtake(indexer)\n\u001b[1;32m   6118\u001b[0m \u001b[39mif\u001b[39;00m \u001b[39misinstance\u001b[39m(key, Index):\n\u001b[1;32m   6119\u001b[0m     \u001b[39m# GH 42790 - Preserve name from an Index\u001b[39;00m\n",
      "File \u001b[0;32m~/documents/MLOps-pipeline-github-actions/venv/lib/python3.10/site-packages/pandas/core/indexes/base.py:6176\u001b[0m, in \u001b[0;36mIndex._raise_if_missing\u001b[0;34m(self, key, indexer, axis_name)\u001b[0m\n\u001b[1;32m   6174\u001b[0m     \u001b[39mif\u001b[39;00m use_interval_msg:\n\u001b[1;32m   6175\u001b[0m         key \u001b[39m=\u001b[39m \u001b[39mlist\u001b[39m(key)\n\u001b[0;32m-> 6176\u001b[0m     \u001b[39mraise\u001b[39;00m \u001b[39mKeyError\u001b[39;00m(\u001b[39mf\u001b[39m\u001b[39m\"\u001b[39m\u001b[39mNone of [\u001b[39m\u001b[39m{\u001b[39;00mkey\u001b[39m}\u001b[39;00m\u001b[39m] are in the [\u001b[39m\u001b[39m{\u001b[39;00maxis_name\u001b[39m}\u001b[39;00m\u001b[39m]\u001b[39m\u001b[39m\"\u001b[39m)\n\u001b[1;32m   6178\u001b[0m not_found \u001b[39m=\u001b[39m \u001b[39mlist\u001b[39m(ensure_index(key)[missing_mask\u001b[39m.\u001b[39mnonzero()[\u001b[39m0\u001b[39m]]\u001b[39m.\u001b[39munique())\n\u001b[1;32m   6179\u001b[0m \u001b[39mraise\u001b[39;00m \u001b[39mKeyError\u001b[39;00m(\u001b[39mf\u001b[39m\u001b[39m\"\u001b[39m\u001b[39m{\u001b[39;00mnot_found\u001b[39m}\u001b[39;00m\u001b[39m not in index\u001b[39m\u001b[39m\"\u001b[39m)\n",
      "\u001b[0;31mKeyError\u001b[0m: \"None of [Index([20, 21, 22, 23, 24, 25, 26, 27, 28, 29, 20, 21, 22, 23, 24, 25, 26, 27,\\n       28, 29, 20, 21, 22, 23, 24, 25, 26, 27, 28, 29, 20, 21, 22, 23, 24, 25,\\n       26, 27, 28, 29, 20, 21, 22, 23, 24, 25, 26, 27, 28, 29, 20, 21, 22, 23,\\n       24, 25, 26, 27, 28, 29, 20, 21, 22, 23, 24, 25, 26, 27, 28, 29, 20, 21,\\n       22, 23, 24, 25, 26, 27, 28, 29, 20, 21],\\n      dtype='int64')] are in the [index]\""
     ]
    }
   ],
   "source": [
    "grid_results = grid_search_forecaster(\n",
    "                        forecaster  = forecaster_rf,\n",
    "                        y           = train_data,\n",
    "                        param_grid  = param_grid,\n",
    "                        steps       = 10,\n",
    "                        metric      = 'mean_squared_error',\n",
    "                        initial_train_size    = int(len(train_data)*0.5),\n",
    "                        allow_incomplete_fold = True,\n",
    "                        return_best = True, # return only ONE best grid\n",
    "                        verbose     = False\n",
    "                    )"
   ]
  }
 ],
 "metadata": {
  "kernelspec": {
   "display_name": "venv",
   "language": "python",
   "name": "python3"
  },
  "language_info": {
   "codemirror_mode": {
    "name": "ipython",
    "version": 3
   },
   "file_extension": ".py",
   "mimetype": "text/x-python",
   "name": "python",
   "nbconvert_exporter": "python",
   "pygments_lexer": "ipython3",
   "version": "3.10.12"
  }
 },
 "nbformat": 4,
 "nbformat_minor": 2
}
